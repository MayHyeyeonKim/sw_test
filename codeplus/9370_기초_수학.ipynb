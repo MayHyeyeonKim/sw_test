{
 "cells": [
  {
   "cell_type": "markdown",
   "metadata": {},
   "source": [
    "## 수학"
   ]
  },
  {
   "cell_type": "markdown",
   "metadata": {},
   "source": [
    "### [10430] 나머지 (Bronze 5)\n",
    "* 입력: A, B, C (2 <= A, B, C <= 10000)\n",
    "* 출력: (A+B)%C, ((A%C) + (B%C))%C, (A×B)%C, ((A%C) × (B%C))%C"
   ]
  },
  {
   "cell_type": "code",
   "execution_count": 1,
   "metadata": {},
   "outputs": [
    {
     "name": "stdout",
     "output_type": "stream",
     "text": [
      "1\n",
      "1\n",
      "0\n",
      "0\n"
     ]
    }
   ],
   "source": [
    "input_10430 = \"\"\"\n",
    "5 8 4\n",
    "\"\"\"\n",
    "\n",
    "inputs = input_10430.split('\\n')[1:-1][::-1]\n",
    "A, B, C = map(int, inputs.pop().split())\n",
    "\n",
    "print((A+B)%C)\n",
    "print(((A%C) + (B%C))%C)\n",
    "print((A*B)%C)\n",
    "print(((A%C) * (B%C))%C)"
   ]
  },
  {
   "cell_type": "markdown",
   "metadata": {},
   "source": [
    "### [4375] 1 (Silver 3)\n",
    "* 입력: N (1 <= N <= 10000), N 2와 5로 나누어 떨어지지 않음\n",
    "* 출력: 1로만 이루어진 N의 배수"
   ]
  },
  {
   "cell_type": "code",
   "execution_count": 2,
   "metadata": {},
   "outputs": [
    {
     "name": "stdout",
     "output_type": "stream",
     "text": [
      "3 3\n",
      "7 6\n",
      "9901 12\n"
     ]
    }
   ],
   "source": [
    "input_4375 = \"\"\"\n",
    "3\n",
    "7\n",
    "9901\n",
    "\"\"\"\n",
    "\n",
    "inputs = input_4375.split('\\n')[1:-1][::-1]\n",
    "\n",
    "while True:\n",
    "    try:\n",
    "        N = int(inputs.pop())\n",
    "    except:\n",
    "        break\n",
    "\n",
    "    num = 0\n",
    "    while True:\n",
    "        num = num*10 + 1\n",
    "        if num % N == 0:\n",
    "            result = len(str(num))\n",
    "            break\n",
    "    print(N, result)"
   ]
  },
  {
   "cell_type": "markdown",
   "metadata": {},
   "source": [
    "### [1037] 약수 (Bronze 1)\n",
    "\n",
    "* 입력: \n",
    "  * N의 진짜 약수들의 개수 (<= 50)\n",
    "  * N의 진짜 약수들 (2 <=, <= 1,000,000)\n",
    "* 출력:\n",
    "  * N"
   ]
  },
  {
   "cell_type": "code",
   "execution_count": 67,
   "metadata": {},
   "outputs": [
    {
     "name": "stdout",
     "output_type": "stream",
     "text": [
      "#1 8\n",
      "#2 4\n",
      "#3 24\n",
      "#4 185192\n"
     ]
    }
   ],
   "source": [
    "input_1037 = \"\"\"\n",
    "4\n",
    "2\n",
    "4 2\n",
    "1\n",
    "2\n",
    "6\n",
    "3 4 2 12 6 8\n",
    "14\n",
    "14 26456 2 28 13228 3307 7 23149 8 6614 46298 56 4 92596\n",
    "\"\"\"\n",
    "\n",
    "inputs = input_1037.split('\\n')[1:-1][::-1]\n",
    "T = int(inputs.pop())\n",
    "for ts in range(1, T + 1):\n",
    "    n = int(inputs.pop())\n",
    "    divisors = list(map(int, inputs.pop().split()))\n",
    "    divisors.sort()\n",
    "\n",
    "    if len(divisors) == 1:\n",
    "        result = divisors[0]**2\n",
    "    else:\n",
    "        result = divisors[0]*divisors[-1]\n",
    "\n",
    "    print(f\"#{ts} {result}\")"
   ]
  },
  {
   "cell_type": "markdown",
   "metadata": {},
   "source": [
    "### [17427] 약수의 합 (Silver 2)\n",
    "\n",
    "* 입력: 자연수 N (1 <= N <= 1,000,000)\n",
    "* 출력: g(N)\n",
    "  * N 보다 작거나 같은 모든 n의 f(n) 합\n",
    "  * f(n): 자연수 n 의 모든 약수의 합"
   ]
  },
  {
   "cell_type": "code",
   "execution_count": 60,
   "metadata": {},
   "outputs": [
    {
     "name": "stdout",
     "output_type": "stream",
     "text": [
      "#1 1\n",
      "#2 4\n",
      "#3 87\n",
      "#4 4065\n",
      "#5 82256014\n"
     ]
    }
   ],
   "source": [
    "input_17427 = \"\"\"\n",
    "5\n",
    "1\n",
    "2\n",
    "10\n",
    "70\n",
    "10000\n",
    "\"\"\"\n",
    "\n",
    "def divisors(n):\n",
    "    if n == 1:\n",
    "        return 1\n",
    "    else:\n",
    "        d = []\n",
    "        n_sqrt = int(n**0.5)\n",
    "        d += [k for k in range(1, n_sqrt + 1) if n % k ==0]\n",
    "        d += [n//k for k in d]\n",
    "        result = sum(d)\n",
    "        if n == n_sqrt**2:\n",
    "            result -= n_sqrt\n",
    "        return result\n",
    "\n",
    "## 시간초과\n",
    "inputs = input_17427.split('\\n')[1:-1][::-1]\n",
    "T = int(inputs.pop())\n",
    "for ts in range(1, T+1):\n",
    "    N = int(inputs.pop())\n",
    "\n",
    "    result = 0\n",
    "    for n in range(1, N+1):\n",
    "        result += divisors(n)\n",
    "\n",
    "    print(f\"#{ts} {result}\")"
   ]
  },
  {
   "cell_type": "markdown",
   "metadata": {},
   "source": [
    "### [2609] 최대공약수와 최소공배수 (Bronze 1)\n",
    "\n",
    "* 입력: 2개의 자연수 N, M (<= 100,000)\n",
    "* 출력: 첫째 줄 최대공약수, 둘째 줄 최소공배수"
   ]
  },
  {
   "cell_type": "code",
   "execution_count": 66,
   "metadata": {},
   "outputs": [
    {
     "name": "stdout",
     "output_type": "stream",
     "text": [
      "6\n",
      "72\n"
     ]
    }
   ],
   "source": [
    "input_2609 = \"\"\"\n",
    "24 18\n",
    "\"\"\"\n",
    "\n",
    "from math import gcd\n",
    "\n",
    "inputs = input_2609.split('\\n')[1:-1][::-1]\n",
    "N, M = map(int, inputs.pop().split())\n",
    "\n",
    "G = gcd(N, M)\n",
    "print(G)\n",
    "print(int(N*M/G))"
   ]
  },
  {
   "cell_type": "markdown",
   "metadata": {},
   "source": [
    "### [1978] 소수 찾기\n",
    "\n",
    "* 입력: 첫째줄 수의 개수 N (N <= 100), 둘째줄 N개의 수 (<= 1,000)\n",
    "* 출력: N개의 수 중 소수의 개수"
   ]
  },
  {
   "cell_type": "code",
   "execution_count": 81,
   "metadata": {},
   "outputs": [
    {
     "name": "stdout",
     "output_type": "stream",
     "text": [
      "3\n"
     ]
    }
   ],
   "source": [
    "input_1978 = \"\"\"\n",
    "4\n",
    "1 3 5 7\n",
    "\"\"\"\n",
    "\n",
    "def is_prime(n):\n",
    "    if n == 1:\n",
    "        return False\n",
    "    for k in range(2, int(n**0.5) + 1):\n",
    "        if n % k == 0:\n",
    "            return False\n",
    "    return True\n",
    "\n",
    "inputs = input_1978.split('\\n')[1:-1][::-1]\n",
    "N = int(inputs.pop())\n",
    "numbers = list(map(int, inputs.pop().split()))\n",
    "\n",
    "result = 0\n",
    "for n in numbers:\n",
    "    if is_prime(n):\n",
    "        result += 1\n",
    "        \n",
    "print(result)"
   ]
  },
  {
   "cell_type": "markdown",
   "metadata": {},
   "source": [
    "### [1929] 소수 구하기 (Silver 3)\n",
    "\n",
    "* 입력: 자연수 N, M (1 <= M <= N <= 1,000,000)\n",
    "* 출력: 한 줄에 하나씩 증가하는 순서로 소수 출력"
   ]
  },
  {
   "cell_type": "code",
   "execution_count": 145,
   "metadata": {},
   "outputs": [
    {
     "name": "stdout",
     "output_type": "stream",
     "text": [
      "3\n",
      "5\n",
      "7\n",
      "11\n",
      "13\n"
     ]
    }
   ],
   "source": [
    "input_1929 = \"\"\"\n",
    "3 16\n",
    "\"\"\"\n",
    "\n",
    "def find_prime(n, m):\n",
    "    is_prime = [False, False] + [True]*m\n",
    "    for i in range(2, int((m+1)**0.5) + 1):\n",
    "        if is_prime[i]:\n",
    "            for j in range(2*i, m+2, i):\n",
    "                is_prime[j] = False\n",
    "    return [i for i in range(n, m+1) if is_prime[i]]\n",
    "\n",
    "inputs = input_1929.split('\\n')[1:-1][::-1]\n",
    "N, M = map(int, inputs.pop().split())\n",
    "\n",
    "for k in find_prime(N, M):\n",
    "    print(k)"
   ]
  },
  {
   "cell_type": "markdown",
   "metadata": {},
   "source": [
    "### [6588] 골드바흐의 추측 (Silver 1)\n",
    "\n",
    "* 입력: 정수 n (6 <= n <= 100,000), 마지막 줄 0\n",
    "* 출력: n = a + b\n",
    "  * a, b: 홀수 소수\n",
    "  * a, b 쌍이 여러개 존재하면 b - a가 가장 큰 값"
   ]
  },
  {
   "cell_type": "code",
   "execution_count": 159,
   "metadata": {},
   "outputs": [
    {
     "name": "stdout",
     "output_type": "stream",
     "text": [
      "8 = 3 + 5\n",
      "20 = 3 + 17\n",
      "42 = 5 + 37\n"
     ]
    }
   ],
   "source": [
    "input_6588 = \"\"\"\n",
    "8\n",
    "20\n",
    "42\n",
    "0\n",
    "\"\"\"\n",
    "\n",
    "from itertools import combinations\n",
    "\n",
    "def find_odd_prime(n):\n",
    "    is_prime = [False, False] + [True]*(n-1)\n",
    "    for i in range(2, int(n**0.5) + 1):\n",
    "        if is_prime[i]:\n",
    "            for j in range(2*i, n+1, i):\n",
    "                is_prime[j] = False\n",
    "    return [i for i in range(3, n) if is_prime[i]]\n",
    "\n",
    "inputs = input_6588.split('\\n')[1:-1][::-1]\n",
    "while True:\n",
    "    N = int(inputs.pop())\n",
    "    if N == 0:\n",
    "        break\n",
    "\n",
    "    odds = find_odd_prime(N)\n",
    "    candidates = [(i, j) for (i, j) in list(combinations(odds, 2)) if i + j == N]\n",
    "    a, b = candidates[0]\n",
    "    print(f\"{N} = {a} + {b}\")"
   ]
  }
 ],
 "metadata": {
  "kernelspec": {
   "display_name": "Python 3.10.4 ('pytorch')",
   "language": "python",
   "name": "python3"
  },
  "language_info": {
   "codemirror_mode": {
    "name": "ipython",
    "version": 3
   },
   "file_extension": ".py",
   "mimetype": "text/x-python",
   "name": "python",
   "nbconvert_exporter": "python",
   "pygments_lexer": "ipython3",
   "version": "3.10.4"
  },
  "orig_nbformat": 4,
  "vscode": {
   "interpreter": {
    "hash": "2942cd73c98f42e378622c778becd0c5a89798f53398894ef73639bee8f37a93"
   }
  }
 },
 "nbformat": 4,
 "nbformat_minor": 2
}
