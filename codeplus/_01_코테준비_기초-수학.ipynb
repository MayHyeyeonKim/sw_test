{
 "cells": [
  {
   "cell_type": "markdown",
   "metadata": {},
   "source": [
    "## 코딩 테스트 준비 - 기초"
   ]
  },
  {
   "cell_type": "markdown",
   "metadata": {},
   "source": [
    "### 수학"
   ]
  },
  {
   "cell_type": "markdown",
   "metadata": {},
   "source": [
    "### [10430] 나머지 (Bronze 5)\n",
    "* 입력: A, B, C (2 <= A, B, C <= 10000)\n",
    "* 출력: (A+B)%C, ((A%C) + (B%C))%C, (A×B)%C, ((A%C) × (B%C))%C"
   ]
  },
  {
   "cell_type": "code",
   "execution_count": 9,
   "metadata": {},
   "outputs": [
    {
     "name": "stdout",
     "output_type": "stream",
     "text": [
      "1\n",
      "1\n",
      "0\n",
      "0\n"
     ]
    }
   ],
   "source": [
    "input_10430 = \"\"\"\n",
    "5 8 4\n",
    "\"\"\"\n",
    "\n",
    "inputs = input_10430.split('\\n')[1:-1][::-1]\n",
    "A, B, C = map(int, inputs.pop().split())\n",
    "\n",
    "print((A+B)%C)\n",
    "print(((A%C) + (B%C))%C)\n",
    "print((A*B)%C)\n",
    "print(((A%C) * (B%C))%C)"
   ]
  },
  {
   "cell_type": "markdown",
   "metadata": {},
   "source": [
    "### [4375] 1 (Silver 3)\n",
    "* 입력: N (1 <= N <= 10000), N 2와 5로 나누어 떨어지지 않음\n",
    "* 출력: 1로만 이루어진 N의 배수\n"
   ]
  },
  {
   "cell_type": "code",
   "execution_count": 19,
   "metadata": {},
   "outputs": [
    {
     "name": "stdout",
     "output_type": "stream",
     "text": [
      "3 3\n",
      "7 6\n",
      "9901 12\n"
     ]
    }
   ],
   "source": [
    "input_4375 = \"\"\"\n",
    "3\n",
    "7\n",
    "9901\n",
    "\"\"\"\n",
    "\n",
    "inputs = input_4375.split('\\n')[1:-1][::-1]\n",
    "\n",
    "while True:\n",
    "    try:\n",
    "        N = int(inputs.pop())\n",
    "    except:\n",
    "        break\n",
    "\n",
    "    # k = 1\n",
    "    num = 0\n",
    "    while True:\n",
    "        # num = int(bin(2**k - 1)[2:])\n",
    "        num = num*10 + 1\n",
    "        if num % N == 0:\n",
    "            result = len(str(num))\n",
    "            break\n",
    "        # else:\n",
    "        #    k += 1\n",
    "\n",
    "    print(N, result)"
   ]
  },
  {
   "cell_type": "markdown",
   "metadata": {},
   "source": [
    "### [1037] 약수 (Bronze 1)\n",
    "\n",
    "* 입력: \n",
    "  * N의 진짜 약수들의 개수 (<= 50)\n",
    "  * N의 진짜 약수들 (2 <=, <= 1,000,000)\n",
    "* 출력:\n",
    "  * N"
   ]
  },
  {
   "cell_type": "code",
   "execution_count": 21,
   "metadata": {},
   "outputs": [
    {
     "data": {
      "text/plain": [
       "(2, [4, 2])"
      ]
     },
     "execution_count": 21,
     "metadata": {},
     "output_type": "execute_result"
    }
   ],
   "source": [
    "input_1037 = \"\"\"\n",
    "2\n",
    "4 2\n",
    "\"\"\"\n",
    "\n",
    "inputs = input_1037.split('\\n')[1:-1][::-1]\n",
    "n = int(inputs.pop())\n",
    "divisors = list(map(int, inputs.pop().split()))\n",
    "\n",
    "n, divisors"
   ]
  }
 ],
 "metadata": {
  "kernelspec": {
   "display_name": "Python 3.10.4 ('pytorch')",
   "language": "python",
   "name": "python3"
  },
  "language_info": {
   "codemirror_mode": {
    "name": "ipython",
    "version": 3
   },
   "file_extension": ".py",
   "mimetype": "text/x-python",
   "name": "python",
   "nbconvert_exporter": "python",
   "pygments_lexer": "ipython3",
   "version": "3.10.4"
  },
  "orig_nbformat": 4,
  "vscode": {
   "interpreter": {
    "hash": "2942cd73c98f42e378622c778becd0c5a89798f53398894ef73639bee8f37a93"
   }
  }
 },
 "nbformat": 4,
 "nbformat_minor": 2
}
