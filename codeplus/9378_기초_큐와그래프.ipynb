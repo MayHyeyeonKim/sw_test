{
 "cells": [
  {
   "cell_type": "markdown",
   "metadata": {},
   "source": [
    "## 큐와 그래프"
   ]
  },
  {
   "cell_type": "markdown",
   "metadata": {},
   "source": [
    "### [2667] 단지번호붙이기 (Silver 1)\n",
    "\n",
    "* 입력: 지도 크기 N (5 <= N <= 25), 그 다음 N줄에 N개의 자료 (0, 1)\n",
    "* 출력: 첫 줄 총 단지수, 단지내 집수를 오름차순으로 한줄에 하나씩"
   ]
  },
  {
   "cell_type": "code",
   "execution_count": 113,
   "metadata": {},
   "outputs": [
    {
     "name": "stdout",
     "output_type": "stream",
     "text": [
      "[1, 0, 0, 0]\n",
      "[0, 0, 0, 0]\n",
      "[0, 0, 0, 0]\n",
      "[0, 0, 0, 0]\n"
     ]
    }
   ],
   "source": [
    "input_2667 = \"\"\"\n",
    "4\n",
    "1000\n",
    "0000\n",
    "0000\n",
    "0000\n",
    "\"\"\"\n",
    "\n",
    "inputs = input_2667.split('\\n')[1:-1][::-1]\n",
    "N = int(inputs.pop())\n",
    "G = [list(map(int, inputs.pop())) for _ in range(N)]\n",
    "for i in range(N):\n",
    "    print(G[i])"
   ]
  },
  {
   "cell_type": "code",
   "execution_count": 114,
   "metadata": {},
   "outputs": [
    {
     "name": "stdout",
     "output_type": "stream",
     "text": [
      "1\n",
      "1\n"
     ]
    }
   ],
   "source": [
    "def dfs(x, y, count):\n",
    "    visited[x][y] = 1\n",
    "    for k in range(4):\n",
    "        nx, ny = x + dx[k], y + dy[k]\n",
    "        if 0 <= nx < N and 0 <= ny < N:\n",
    "            if not visited[nx][ny] and G[nx][ny] == 1:\n",
    "                count = dfs(nx, ny, count+1)\n",
    "    return count\n",
    "    \n",
    "dx, dy = (-1, 1, 0, 0), (0, 0, -1, 1)\n",
    "visited = [[0 for _ in range(N)] for _ in range(N)]\n",
    "\n",
    "result = []\n",
    "for i in range(N):\n",
    "    for j in range(N):\n",
    "        if not visited[i][j] and G[i][j] == 1:\n",
    "            result.append(dfs(i, j, count=1))\n",
    "\n",
    "result.sort() ## 오름차순\n",
    "print(len(result))\n",
    "for n in result:\n",
    "    print(n)"
   ]
  },
  {
   "cell_type": "markdown",
   "metadata": {},
   "source": [
    "### [7562] 나이트의 이동 (Silver 1)\n",
    "\n",
    "* 입력: 테슽 케이스\n",
    "  * 첫째 줄: 체스판 크기 I (4 <= I <= 300)\n",
    "  * 둘째 줄: 나이트가 현재 있는 칸\n",
    "  * 셋째 줄: 나이트가 이동하려고 하는 칸\n",
    "* 출력: 최소 이동 횟수"
   ]
  },
  {
   "cell_type": "code",
   "execution_count": 115,
   "metadata": {},
   "outputs": [
    {
     "name": "stdout",
     "output_type": "stream",
     "text": [
      "5\n",
      "28\n",
      "0\n"
     ]
    }
   ],
   "source": [
    "input_7562 = \"\"\"\n",
    "3\n",
    "8\n",
    "0 0\n",
    "7 0\n",
    "100\n",
    "0 0\n",
    "30 50\n",
    "10\n",
    "1 1\n",
    "1 1\n",
    "\"\"\"\n",
    "\n",
    "from queue import deque\n",
    "\n",
    "def bfs(x0, y0, xn, yn):\n",
    "    visited[x0][y0] = 1\n",
    "    q = deque([(x0, y0)])\n",
    "    while q:\n",
    "        x, y = q.popleft()\n",
    "        for k in range(8):\n",
    "            nx, ny = x + dx[k], y + dy[k]\n",
    "            if 0 <= nx < N and 0 <= ny < N:\n",
    "                if not visited[nx][ny]:\n",
    "                    visited[nx][ny] = visited[x][y] + 1\n",
    "                    q.append((nx, ny))\n",
    "            if (nx, ny) == (xn, yn):\n",
    "                q.clear()\n",
    "                return visited[xn][yn] - 1\n",
    "    return -1\n",
    "\n",
    "inputs = input_7562.split('\\n')[1:-1][::-1]\n",
    "\n",
    "T = int(inputs.pop())\n",
    "for ts in range(1, T + 1):\n",
    "    N = int(inputs.pop())\n",
    "    x0, y0 = map(int, inputs.pop().split())\n",
    "    xn, yn = map(int, inputs.pop().split())\n",
    "\n",
    "    dx = (2, 1,  2,  1, -2, -1, -2, -1)\n",
    "    dy = (1, 2, -1, -2,  1,  2, -1, -2)\n",
    "    visited = [[0 for _ in range(N)] for _ in range(N)]\n",
    "\n",
    "    print(bfs(x0, y0, xn, yn))"
   ]
  },
  {
   "cell_type": "markdown",
   "metadata": {},
   "source": [
    "### [7576] 토마토 (Gold 5)\n",
    "\n",
    "* 입력: 상자의 크기 세로 N, 가로 M (2 <= N, M <= 1,000)\n",
    "  * 둘째 줄부터 N개의 줄\n",
    "  * 익은 토마토: 1 / 익지 않은 토마토: 0 / 토마토가 들어 있지 않은 칸: -1\n",
    "* 출력: 토마토가 모두 익을 때까지의 최소 날짜"
   ]
  },
  {
   "cell_type": "code",
   "execution_count": 108,
   "metadata": {},
   "outputs": [],
   "source": [
    "input_7576 = \"\"\"\n",
    "5\n",
    "6 4\n",
    "0 0 0 0 0 0\n",
    "0 0 0 0 0 0\n",
    "0 0 0 0 0 0\n",
    "0 0 0 0 0 1\n",
    "6 4\n",
    "0 -1 0 0 0 0\n",
    "-1 0 0 0 0 0\n",
    "0 0 0 0 0 0\n",
    "0 0 0 0 0 1\n",
    "6 4\n",
    "1 -1 0 0 0 0\n",
    "0 -1 0 0 0 0\n",
    "0 0 0 0 -1 0\n",
    "0 0 0 0 -1 1\n",
    "5 5\n",
    "-1 1 0 0 0\n",
    "0 -1 -1 -1 0\n",
    "0 -1 -1 -1 0\n",
    "0 -1 -1 -1 0\n",
    "0 0 0 0 0\n",
    "2 2\n",
    "1 -1\n",
    "-1 1\n",
    "\"\"\""
   ]
  },
  {
   "cell_type": "code",
   "execution_count": 112,
   "metadata": {},
   "outputs": [
    {
     "name": "stdout",
     "output_type": "stream",
     "text": [
      "8\n",
      "-1\n",
      "6\n",
      "14\n",
      "0\n"
     ]
    }
   ],
   "source": [
    "from queue import deque\n",
    "\n",
    "def bfs():\n",
    "    while q:\n",
    "        x, y = q.popleft()\n",
    "        for k in range(4):\n",
    "            nx, ny = x + dx[k], y + dy[k]\n",
    "            if 0 <= nx < N and 0 <= ny < M:\n",
    "                if not visited[nx][ny] and G[nx][ny] == 0:\n",
    "                    visited[nx][ny] = visited[x][y] + 1\n",
    "                    q.append((nx, ny))\n",
    "\n",
    "dx, dy = (-1, 1, 0, 0), (0, 0, -1, 1)\n",
    "inputs = input_7576.split('\\n')[1:-1][::-1]\n",
    "\n",
    "T = int(inputs.pop())\n",
    "for ts in range(1, T+1):\n",
    "    M, N = map(int, inputs.pop().split())\n",
    "    G = [list(map(int, inputs.pop().split())) for _ in range(N)]\n",
    "\n",
    "    visited = [[0 for _ in range(M)] for _ in range(N)]\n",
    "\n",
    "    q = deque([])\n",
    "    for i, j in ((i, j) for i in range(N) for j in range(M)):\n",
    "        if G[i][j] == 1:\n",
    "            q.append((i, j))\n",
    "            visited[i][j] = 1\n",
    "    bfs()\n",
    "\n",
    "    result = 0\n",
    "    for i, j in ((i, j) for i in range(N) for j in range(M)):\n",
    "        if visited[i][j] == 0 and G[i][j] != -1:\n",
    "            result = -1\n",
    "            break ## 이중 for 문 탈출\n",
    "        result = max(result, visited[i][j] - 1)\n",
    "\n",
    "    print(result)\n",
    "\n",
    "    # for i in range(N):\n",
    "    #     print(visited[i])"
   ]
  }
 ],
 "metadata": {
  "kernelspec": {
   "display_name": "Python 3.9.12 ('sklearn')",
   "language": "python",
   "name": "python3"
  },
  "language_info": {
   "codemirror_mode": {
    "name": "ipython",
    "version": 3
   },
   "file_extension": ".py",
   "mimetype": "text/x-python",
   "name": "python",
   "nbconvert_exporter": "python",
   "pygments_lexer": "ipython3",
   "version": "3.9.12"
  },
  "orig_nbformat": 4,
  "vscode": {
   "interpreter": {
    "hash": "bd17635c3af40ee0fb3fd7958713686f4f06110d6c9528018765bbaee056a989"
   }
  }
 },
 "nbformat": 4,
 "nbformat_minor": 2
}
