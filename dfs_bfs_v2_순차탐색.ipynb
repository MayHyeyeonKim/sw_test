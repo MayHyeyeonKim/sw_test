{
 "cells": [
  {
   "cell_type": "code",
   "execution_count": 1,
   "metadata": {},
   "outputs": [],
   "source": [
    "from collections import deque"
   ]
  },
  {
   "cell_type": "markdown",
   "metadata": {},
   "source": [
    "```\n",
    "0 - 1 - 2\n",
    "|   |   |\n",
    "3 - 4 - 5\n",
    "```"
   ]
  },
  {
   "cell_type": "markdown",
   "metadata": {},
   "source": [
    "## DFS / BFS (인접 배열)"
   ]
  },
  {
   "cell_type": "code",
   "execution_count": 2,
   "metadata": {},
   "outputs": [],
   "source": [
    "graph_list = [\n",
    "    [1, 3],     # node 0\n",
    "    [0, 2, 4],  # node 1\n",
    "    [1, 5],     # node 2\n",
    "    [0, 4],     # node 3\n",
    "    [1, 3, 5],  # node 4\n",
    "    [3, 4],     # node 5\n",
    "]"
   ]
  },
  {
   "cell_type": "code",
   "execution_count": 3,
   "metadata": {},
   "outputs": [
    {
     "data": {
      "text/plain": [
       "[0, 1, 2, 5, 3, 4]"
      ]
     },
     "execution_count": 3,
     "metadata": {},
     "output_type": "execute_result"
    }
   ],
   "source": [
    "## DFS (recursion)\n",
    "def dfs(graph, x, visited=[]):\n",
    "    visited.append(x)\n",
    "    for nx in sorted(graph[x]):\n",
    "        if nx not in visited:\n",
    "            visited = dfs(graph, nx)\n",
    "    return visited\n",
    "\n",
    "dfs(graph_list, 0)"
   ]
  },
  {
   "cell_type": "code",
   "execution_count": 7,
   "metadata": {},
   "outputs": [
    {
     "data": {
      "text/plain": [
       "[0, 1, 2, 5, 3, 4]"
      ]
     },
     "execution_count": 7,
     "metadata": {},
     "output_type": "execute_result"
    }
   ],
   "source": [
    "## DFS (stack)\n",
    "def dfs(graph, x):\n",
    "    visited = [x]\n",
    "    stack = deque([x])\n",
    "\n",
    "    while stack:\n",
    "        x = stack.pop()\n",
    "        if x not in visited:\n",
    "            visited.append(x)\n",
    "        for nx in reversed(graph[x]):\n",
    "            if nx not in visited:\n",
    "                stack.append(nx)\n",
    "    return visited\n",
    "\n",
    "dfs(graph_list, 0)"
   ]
  },
  {
   "cell_type": "code",
   "execution_count": 8,
   "metadata": {},
   "outputs": [
    {
     "data": {
      "text/plain": [
       "[0, 1, 3, 2, 4, 5]"
      ]
     },
     "execution_count": 8,
     "metadata": {},
     "output_type": "execute_result"
    }
   ],
   "source": [
    "## BFS (queue)\n",
    "def bfs(graph, x):\n",
    "    visited = [x]\n",
    "    queue = deque([x])\n",
    "\n",
    "    while queue:\n",
    "        x = queue.popleft()\n",
    "        for nx in graph[x]:\n",
    "            if nx not in visited:\n",
    "                visited.append(nx)\n",
    "                queue.append(nx)\n",
    "    return visited\n",
    "\n",
    "bfs(graph_list, 0)"
   ]
  },
  {
   "cell_type": "markdown",
   "metadata": {},
   "source": [
    "## DFS / BFS (인접 행렬)"
   ]
  },
  {
   "cell_type": "code",
   "execution_count": 11,
   "metadata": {},
   "outputs": [],
   "source": [
    "graph_matrix = [\n",
    "    [0, 1, 0, 1, 0, 0],     # node 0\n",
    "    [0, 0, 1, 0, 1, 0],     # node 1\n",
    "    [0, 1, 0, 0, 0, 1],     # node 2\n",
    "    [1, 0, 0, 0, 1, 0],     # node 3\n",
    "    [0, 1, 0, 1, 0, 1],     # node 4\n",
    "    [0, 0, 0, 1, 1, 0],     # node 5\n",
    "]"
   ]
  },
  {
   "cell_type": "code",
   "execution_count": 12,
   "metadata": {},
   "outputs": [
    {
     "data": {
      "text/plain": [
       "[0, 1, 2, 5, 3, 4]"
      ]
     },
     "execution_count": 12,
     "metadata": {},
     "output_type": "execute_result"
    }
   ],
   "source": [
    "## DFS (recursion)\n",
    "def dfs(matrix, x, visited=[]):\n",
    "    visited.append(x)\n",
    "    for nx in range(len(matrix[x])):\n",
    "        if nx not in visited and matrix[x][nx] == 1:\n",
    "            visited = dfs(matrix, nx)\n",
    "    return visited\n",
    "\n",
    "dfs(graph_matrix, 0)"
   ]
  },
  {
   "cell_type": "code",
   "execution_count": 23,
   "metadata": {},
   "outputs": [
    {
     "data": {
      "text/plain": [
       "[0, 1, 2, 5, 3, 4]"
      ]
     },
     "execution_count": 23,
     "metadata": {},
     "output_type": "execute_result"
    }
   ],
   "source": [
    "## DFS (stack)\n",
    "def dfs(matrix, x):\n",
    "    visited = [x]\n",
    "    stack = deque([x])\n",
    "\n",
    "    while stack:\n",
    "        x = stack.pop()\n",
    "        if x not in visited:\n",
    "            visited.append(x)\n",
    "        for nx in reversed(range(len(matrix[x]))):\n",
    "            if nx not in visited and matrix[x][nx] == 1:\n",
    "                stack.append(nx)\n",
    "    return visited\n",
    "\n",
    "dfs(graph_matrix, 0)"
   ]
  },
  {
   "cell_type": "code",
   "execution_count": 35,
   "metadata": {},
   "outputs": [
    {
     "data": {
      "text/plain": [
       "[0, 1, 3, 2, 4, 5]"
      ]
     },
     "execution_count": 35,
     "metadata": {},
     "output_type": "execute_result"
    }
   ],
   "source": [
    "## BFS (queue)\n",
    "def bfs(matrix, x):\n",
    "    visited = [x]\n",
    "    queue = deque([x])\n",
    "\n",
    "    while queue:\n",
    "        x = queue.popleft()\n",
    "        for nx in range(len(matrix[x])):\n",
    "            if nx not in visited and matrix[x][nx] == 1:\n",
    "                visited.append(nx)\n",
    "                queue.append(nx)\n",
    "    return visited\n",
    "\n",
    "bfs(graph_matrix, 0)"
   ]
  },
  {
   "cell_type": "markdown",
   "metadata": {},
   "source": [
    "## DFS / BFS (완전탐색)\n",
    "\n",
    "```\n",
    "(0, 0) - (0, 1) - (0, 2)\n",
    "  |        |        |\n",
    "(1, 0) - (1, 1) - (1, 2)\n",
    "  |        |        |\n",
    "(2, 0) - (2, 1) - (2, 2)\n",
    "```"
   ]
  },
  {
   "cell_type": "code",
   "execution_count": 11,
   "metadata": {},
   "outputs": [],
   "source": [
    "grid = [[0, 0, 0], \n",
    "        [0, 0, 0], \n",
    "        [0, 0, 0]]\n",
    "\n",
    "N, M = 3, 3\n",
    "dx, dy = [-1, 1, 0, 0], [0, 0, -1, 1]"
   ]
  },
  {
   "cell_type": "code",
   "execution_count": 12,
   "metadata": {},
   "outputs": [
    {
     "data": {
      "text/plain": [
       "[(0, 0), (1, 0), (2, 0), (2, 1), (1, 1), (0, 1), (0, 2), (1, 2), (2, 2)]"
      ]
     },
     "execution_count": 12,
     "metadata": {},
     "output_type": "execute_result"
    }
   ],
   "source": [
    "def dfs(grid, x, y, visited=[]):\n",
    "    visited.append((x, y))\n",
    "    for k in range(4):\n",
    "        nx, ny = x + dx[k], y + dy[k]\n",
    "    \n",
    "        if 0 <= nx < N and 0 <= ny < M:\n",
    "            if (nx, ny) not in visited:\n",
    "                visited = dfs(grid, nx, ny)\n",
    "    return visited\n",
    "\n",
    "dfs(grid, 0, 0) # [(0, 0), (1, 0), (2, 0), (2, 1), (1, 1), (0, 1), (0, 2), (1, 2), (2, 2)]"
   ]
  },
  {
   "cell_type": "code",
   "execution_count": 13,
   "metadata": {},
   "outputs": [
    {
     "data": {
      "text/plain": [
       "[(0, 0), (0, 1), (0, 2), (1, 2), (1, 1), (1, 0), (2, 0), (2, 1), (2, 2)]"
      ]
     },
     "execution_count": 13,
     "metadata": {},
     "output_type": "execute_result"
    }
   ],
   "source": [
    "def dfs(grid, x, y):\n",
    "    visited = [(x, y)]\n",
    "    queue = deque([(x, y)])\n",
    "    while queue:\n",
    "        x, y = queue.pop()\n",
    "        if (x, y) not in visited:\n",
    "            visited.append((x, y))\n",
    "        for k in range(4):\n",
    "            nx, ny = x + dx[k], y + dy[k]\n",
    "            if 0 <= nx < N and 0 <= ny < M:\n",
    "                if (nx, ny) not in visited:\n",
    "                    queue.append((nx, ny))\n",
    "    return visited\n",
    "\n",
    "dfs(grid, 0, 0)"
   ]
  },
  {
   "cell_type": "code",
   "execution_count": 14,
   "metadata": {},
   "outputs": [
    {
     "data": {
      "text/plain": [
       "[(0, 0), (1, 0), (0, 1), (2, 0), (1, 1), (0, 2), (2, 1), (1, 2), (2, 2)]"
      ]
     },
     "execution_count": 14,
     "metadata": {},
     "output_type": "execute_result"
    }
   ],
   "source": [
    "def bfs(grid, x, y):\n",
    "    visited = [(x, y)]\n",
    "    queue = deque([(x, y)])\n",
    "    while queue:\n",
    "        x, y = queue.popleft()\n",
    "        for k in range(4):\n",
    "            nx, ny = x + dx[k], y + dy[k]\n",
    "            if 0 <= nx < N and 0 <= ny < M:\n",
    "                if (nx, ny) not in visited:\n",
    "                    visited.append((nx, ny))\n",
    "                    queue.append((nx, ny))\n",
    "    return visited\n",
    "\n",
    "bfs(grid, 0, 0)"
   ]
  }
 ],
 "metadata": {
  "kernelspec": {
   "display_name": "Python 3.10.4 ('pytorch')",
   "language": "python",
   "name": "python3"
  },
  "language_info": {
   "codemirror_mode": {
    "name": "ipython",
    "version": 3
   },
   "file_extension": ".py",
   "mimetype": "text/x-python",
   "name": "python",
   "nbconvert_exporter": "python",
   "pygments_lexer": "ipython3",
   "version": "3.10.4"
  },
  "orig_nbformat": 4,
  "vscode": {
   "interpreter": {
    "hash": "2942cd73c98f42e378622c778becd0c5a89798f53398894ef73639bee8f37a93"
   }
  }
 },
 "nbformat": 4,
 "nbformat_minor": 2
}
