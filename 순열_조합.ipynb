{
 "cells": [
  {
   "cell_type": "markdown",
   "metadata": {},
   "source": [
    "## 순열"
   ]
  },
  {
   "cell_type": "code",
   "execution_count": 27,
   "metadata": {},
   "outputs": [
    {
     "name": "stdout",
     "output_type": "stream",
     "text": [
      "[[1, 2], [1, 3], [2, 1], [2, 3], [3, 1], [3, 2]]\n"
     ]
    }
   ],
   "source": [
    "## 순열 ver. 1.0\n",
    "def dfs(selected=[]):\n",
    "    if len(selected) == n:\n",
    "        result.append(selected)\n",
    "        return\n",
    "    for i in range(len(a)):\n",
    "        if a[i] not in selected:\n",
    "            dfs(selected + [a[i]])\n",
    "\n",
    "a, n = [1, 2, 3], 2\n",
    "result = []\n",
    "dfs()\n",
    "print(result)"
   ]
  },
  {
   "cell_type": "code",
   "execution_count": 26,
   "metadata": {},
   "outputs": [
    {
     "name": "stdout",
     "output_type": "stream",
     "text": [
      "[[1, 2], [1, 3], [2, 1], [2, 3], [3, 1], [3, 2]]\n"
     ]
    }
   ],
   "source": [
    "## 순열 ver. 1.1\n",
    "def dfs(selected=[]):\n",
    "    if len(selected) == n:\n",
    "        result.append(selected[:]) ## deep copy\n",
    "        return\n",
    "    for i in range(len(a)):\n",
    "        if a[i] not in selected:\n",
    "            selected.append(a[i])\n",
    "            dfs(selected)\n",
    "            selected.pop()  ## Backtracking\n",
    "\n",
    "a, n = [1, 2, 3], 2\n",
    "result = []\n",
    "dfs()\n",
    "print(result)"
   ]
  },
  {
   "cell_type": "code",
   "execution_count": 25,
   "metadata": {},
   "outputs": [
    {
     "name": "stdout",
     "output_type": "stream",
     "text": [
      "[[1, 2], [1, 3], [2, 1], [2, 3], [3, 1], [3, 2]]\n"
     ]
    }
   ],
   "source": [
    "## 순열 ver. 2.0\n",
    "def dfs(level=0, selected=[]):\n",
    "    if level == n:\n",
    "        result.append(selected)\n",
    "        return\n",
    "    for i in range(len(a)):\n",
    "        if a[i] not in selected:\n",
    "            dfs(level+1, selected + [a[i]])\n",
    "\n",
    "a, n = [1, 2, 3], 2\n",
    "result = []\n",
    "dfs()\n",
    "print(result)"
   ]
  },
  {
   "cell_type": "code",
   "execution_count": 24,
   "metadata": {},
   "outputs": [
    {
     "name": "stdout",
     "output_type": "stream",
     "text": [
      "[[1, 2], [1, 3], [2, 1], [2, 3], [3, 1], [3, 2]]\n"
     ]
    }
   ],
   "source": [
    "## 순열 ver. 2.1\n",
    "def dfs(level=0, selected=[]):\n",
    "    if level == n:\n",
    "        result.append(selected[:]) ## deep copy\n",
    "        return\n",
    "    for i in range(len(a)):\n",
    "        if a[i] not in selected:\n",
    "            selected.append(a[i])\n",
    "            dfs(level+1, selected)\n",
    "            selected.pop()\n",
    "\n",
    "a, n = [1, 2, 3], 2\n",
    "result = []\n",
    "dfs()\n",
    "print(result)"
   ]
  },
  {
   "cell_type": "code",
   "execution_count": 14,
   "metadata": {},
   "outputs": [
    {
     "data": {
      "text/plain": [
       "[[1, 2], [1, 3], [2, 1], [2, 3], [3, 1], [3, 2]]"
      ]
     },
     "execution_count": 14,
     "metadata": {},
     "output_type": "execute_result"
    }
   ],
   "source": [
    "## 순열 ver. 3.0\n",
    "def dfs(selected=[]):\n",
    "    if len(selected) == n:\n",
    "        result.append(selected)\n",
    "        return\n",
    "    for i in range(len(a)):\n",
    "        if not visited[i]:\n",
    "            visited[i] = 1\n",
    "            dfs(selected + [a[i]])\n",
    "            visited[i] = 0\n",
    "\n",
    "a, n = [1, 2, 3], 2\n",
    "visited = [0 for _ in range(len(a))]\n",
    "result = []\n",
    "\n",
    "dfs()\n",
    "result"
   ]
  },
  {
   "cell_type": "code",
   "execution_count": 19,
   "metadata": {},
   "outputs": [
    {
     "data": {
      "text/plain": [
       "[[1, 2], [1, 3], [2, 1], [2, 3], [3, 1], [3, 2]]"
      ]
     },
     "execution_count": 19,
     "metadata": {},
     "output_type": "execute_result"
    }
   ],
   "source": [
    "## 순열 ver. 3.1\n",
    "def dfs(selected=[]):\n",
    "    if len(selected) == n:\n",
    "        result.append(selected[:]) ## deep copy\n",
    "        return\n",
    "    for i in range(len(a)):\n",
    "        if not visited[i]:\n",
    "            visited[i] = 1\n",
    "            selected.append(a[i])\n",
    "            dfs(selected)\n",
    "            visited[i] = 0\n",
    "            selected.pop()\n",
    "\n",
    "a, n = [1, 2, 3], 2\n",
    "visited = [0 for _ in range(len(a))]\n",
    "result = []\n",
    "\n",
    "dfs()\n",
    "result"
   ]
  },
  {
   "cell_type": "code",
   "execution_count": 20,
   "metadata": {},
   "outputs": [
    {
     "data": {
      "text/plain": [
       "[[1, 2], [1, 3], [2, 1], [2, 3], [3, 1], [3, 2]]"
      ]
     },
     "execution_count": 20,
     "metadata": {},
     "output_type": "execute_result"
    }
   ],
   "source": [
    "## 순열 ver. 4.0\n",
    "def dfs(level=0, selected=[]):\n",
    "    if level == n:\n",
    "        result.append(selected)\n",
    "        return\n",
    "    for i in range(len(a)):\n",
    "        if not visited[i]:\n",
    "            visited[i] = 1\n",
    "            dfs(level+1, selected + [a[i]])\n",
    "            visited[i] = 0\n",
    "\n",
    "a, n = [1, 2, 3], 2\n",
    "visited = [0 for _ in range(len(a))]\n",
    "result = []\n",
    "\n",
    "dfs()\n",
    "result"
   ]
  },
  {
   "cell_type": "code",
   "execution_count": 28,
   "metadata": {},
   "outputs": [
    {
     "data": {
      "text/plain": [
       "[[1, 2], [1, 3], [2, 1], [2, 3], [3, 1], [3, 2]]"
      ]
     },
     "execution_count": 28,
     "metadata": {},
     "output_type": "execute_result"
    }
   ],
   "source": [
    "## 순열 ver. 4.1\n",
    "def dfs(level=0, selected=[]):\n",
    "    if level == n:\n",
    "        result.append(selected[:]) ## deep copy\n",
    "        return\n",
    "    for i in range(len(a)):\n",
    "        if not visited[i]:\n",
    "            visited[i] = 1\n",
    "            selected.append(a[i])\n",
    "            dfs(level+1, selected)\n",
    "            visited[i] = 0\n",
    "            selected.pop()\n",
    "\n",
    "a, n = [1, 2, 3], 2\n",
    "visited = [0 for _ in range(len(a))]\n",
    "result = []\n",
    "\n",
    "dfs()\n",
    "result"
   ]
  },
  {
   "cell_type": "markdown",
   "metadata": {},
   "source": [
    "## 조합"
   ]
  },
  {
   "cell_type": "code",
   "execution_count": 29,
   "metadata": {},
   "outputs": [
    {
     "name": "stdout",
     "output_type": "stream",
     "text": [
      "[[1, 2], [1, 3], [2, 3]]\n"
     ]
    }
   ],
   "source": [
    "## 조합 ver. 1.0\n",
    "def dfs(j=0, selected=[]):\n",
    "    if len(selected) == n:\n",
    "        result.append(selected)\n",
    "        return\n",
    "    for i in range(j, len(a)):\n",
    "        if a[i] not in selected:\n",
    "            dfs(i, selected + [a[i]])\n",
    "\n",
    "a, n = [1, 2, 3], 2\n",
    "result = []\n",
    "dfs()\n",
    "print(result)"
   ]
  },
  {
   "cell_type": "code",
   "execution_count": 30,
   "metadata": {},
   "outputs": [
    {
     "name": "stdout",
     "output_type": "stream",
     "text": [
      "[[1, 2], [1, 3], [2, 3]]\n"
     ]
    }
   ],
   "source": [
    "## 조합 ver. 2.0\n",
    "def dfs(level=0, j=0, selected=[]):\n",
    "    if level == n:\n",
    "        result.append(selected)\n",
    "        return\n",
    "    for i in range(j, len(a)):\n",
    "        if a[i] not in selected:\n",
    "            dfs(level+1, i, selected + [a[i]])\n",
    "\n",
    "a, n = [1, 2, 3], 2\n",
    "result = []\n",
    "dfs()\n",
    "print(result)"
   ]
  },
  {
   "cell_type": "code",
   "execution_count": 31,
   "metadata": {},
   "outputs": [
    {
     "data": {
      "text/plain": [
       "[[1, 2], [1, 3], [2, 3]]"
      ]
     },
     "execution_count": 31,
     "metadata": {},
     "output_type": "execute_result"
    }
   ],
   "source": [
    "## 순열 ver. 3.0\n",
    "def dfs(j=0, selected=[]):\n",
    "    if len(selected) == n:\n",
    "        result.append(selected)\n",
    "        return\n",
    "    for i in range(j, len(a)):\n",
    "        if not visited[i]:\n",
    "            visited[i] = 1\n",
    "            dfs(i, selected + [a[i]])\n",
    "            visited[i] = 0\n",
    "\n",
    "a, n = [1, 2, 3], 2\n",
    "visited = [0 for _ in range(len(a))]\n",
    "result = []\n",
    "\n",
    "dfs()\n",
    "result"
   ]
  },
  {
   "cell_type": "code",
   "execution_count": 32,
   "metadata": {},
   "outputs": [
    {
     "data": {
      "text/plain": [
       "[[1, 2], [1, 3], [2, 3]]"
      ]
     },
     "execution_count": 32,
     "metadata": {},
     "output_type": "execute_result"
    }
   ],
   "source": [
    "## 순열 ver. 4.0\n",
    "def dfs(level=0, j=0, selected=[]):\n",
    "    if level == n:\n",
    "        result.append(selected)\n",
    "        return\n",
    "    for i in range(j, len(a)):\n",
    "        if not visited[i]:\n",
    "            visited[i] = 1\n",
    "            dfs(level+1, i, selected + [a[i]])\n",
    "            visited[i] = 0\n",
    "\n",
    "a, n = [1, 2, 3], 2\n",
    "visited = [0 for _ in range(len(a))]\n",
    "result = []\n",
    "\n",
    "dfs()\n",
    "result"
   ]
  }
 ],
 "metadata": {
  "kernelspec": {
   "display_name": "Python 3.9.12 ('sklearn')",
   "language": "python",
   "name": "python3"
  },
  "language_info": {
   "codemirror_mode": {
    "name": "ipython",
    "version": 3
   },
   "file_extension": ".py",
   "mimetype": "text/x-python",
   "name": "python",
   "nbconvert_exporter": "python",
   "pygments_lexer": "ipython3",
   "version": "3.9.12"
  },
  "orig_nbformat": 4,
  "vscode": {
   "interpreter": {
    "hash": "bd17635c3af40ee0fb3fd7958713686f4f06110d6c9528018765bbaee056a989"
   }
  }
 },
 "nbformat": 4,
 "nbformat_minor": 2
}
